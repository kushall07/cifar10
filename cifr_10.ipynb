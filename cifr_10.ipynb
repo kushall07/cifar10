{
  "nbformat": 4,
  "nbformat_minor": 0,
  "metadata": {
    "colab": {
      "name": "cifr 10.ipynb",
      "version": "0.3.2",
      "provenance": [],
      "private_outputs": true
    },
    "kernelspec": {
      "name": "python3",
      "display_name": "Python 3"
    },
    "accelerator": "GPU"
  },
  "cells": [
    {
      "cell_type": "code",
      "metadata": {
        "id": "wNuEBYeesQQ8",
        "colab_type": "code",
        "colab": {}
      },
      "source": [
        "import numpy as np\n",
        "import pandas as pd\n",
        "import matplotlib.pyplot as plt\n",
        "%matplotlib inline\n",
        "import keras"
      ],
      "execution_count": 0,
      "outputs": []
    },
    {
      "cell_type": "code",
      "metadata": {
        "id": "M4-2gY1TFv7N",
        "colab_type": "code",
        "colab": {}
      },
      "source": [
        "from keras.models import Sequential\n",
        "from keras.layers import Dense,Activation,Convolution2D,MaxPooling2D,Flatten,Dropout\n",
        "from keras.utils import np_utils"
      ],
      "execution_count": 0,
      "outputs": []
    },
    {
      "cell_type": "code",
      "metadata": {
        "id": "EHPqeyfesRAR",
        "colab_type": "code",
        "colab": {}
      },
      "source": [
        "from keras.datasets import cifar10\n",
        "\n",
        "(x_train, y_train), (x_test, y_test) = cifar10.load_data()"
      ],
      "execution_count": 0,
      "outputs": []
    },
    {
      "cell_type": "code",
      "metadata": {
        "id": "5pzk8cd-FSA3",
        "colab_type": "code",
        "colab": {}
      },
      "source": [
        "print(x_train.shape,y_train.shape)"
      ],
      "execution_count": 0,
      "outputs": []
    },
    {
      "cell_type": "code",
      "metadata": {
        "id": "dDhggJj-72tq",
        "colab_type": "code",
        "colab": {}
      },
      "source": [
        "print(x_test.shape,y_test.shape)"
      ],
      "execution_count": 0,
      "outputs": []
    },
    {
      "cell_type": "code",
      "metadata": {
        "id": "wArWsFibV-eG",
        "colab_type": "code",
        "colab": {}
      },
      "source": [
        "y_train=np_utils.to_categorical(y_train)\n",
        "y_test=np_utils.to_categorical(y_test)\n",
        "print(y_train.shape,y_test.shape)"
      ],
      "execution_count": 0,
      "outputs": []
    },
    {
      "cell_type": "code",
      "metadata": {
        "id": "yc-LxCWERJvi",
        "colab_type": "code",
        "colab": {}
      },
      "source": [
        "np.unique(y_train)"
      ],
      "execution_count": 0,
      "outputs": []
    },
    {
      "cell_type": "code",
      "metadata": {
        "id": "QEl0w7PU7_VT",
        "colab_type": "code",
        "colab": {}
      },
      "source": [
        "m=4\n",
        "k=0\n",
        "plt.figure(1)\n",
        "for i in range(0,m):\n",
        "  for j in range(0,m):\n",
        "    plt.subplot2grid((m,m),(i,j))\n",
        "    plt.imshow(x_train[k])\n",
        "    k=k+1\n",
        "plt.show()\n"
      ],
      "execution_count": 0,
      "outputs": []
    },
    {
      "cell_type": "code",
      "metadata": {
        "id": "2TXKFGOG8GnE",
        "colab_type": "code",
        "colab": {}
      },
      "source": [
        "img=x_train[5]"
      ],
      "execution_count": 0,
      "outputs": []
    },
    {
      "cell_type": "code",
      "metadata": {
        "id": "a0c5Hpn38jO0",
        "colab_type": "code",
        "colab": {}
      },
      "source": [
        "k=np.array([[-1,1,1],\n",
        "            [1,1,-1],\n",
        "            [-1,5,1]])"
      ],
      "execution_count": 0,
      "outputs": []
    },
    {
      "cell_type": "code",
      "metadata": {
        "id": "mSl9OYy0KoPb",
        "colab_type": "code",
        "colab": {}
      },
      "source": [
        "out_r=img.shape[0]-k.shape[0]+1\n",
        "out_c=img.shape[1]-k.shape[1]+1\n"
      ],
      "execution_count": 0,
      "outputs": []
    },
    {
      "cell_type": "code",
      "metadata": {
        "id": "g9h2FxCEK0lj",
        "colab_type": "code",
        "colab": {}
      },
      "source": [
        "new_img=np.zeros((out_r,out_c))"
      ],
      "execution_count": 0,
      "outputs": []
    },
    {
      "cell_type": "code",
      "metadata": {
        "id": "uNMkzYQxK5Mh",
        "colab_type": "code",
        "colab": {}
      },
      "source": [
        "\n",
        "for r in range(out_r):\n",
        "  for c in range(out_c):\n",
        "    image_patch=img[r:r+k.shape[0],c:c+k.shape[1]]\n",
        "    prod=image_patch*k\n",
        "    prod=prod.sum()\n",
        "    new_img[r,c]=prod if prod>0 else 0"
      ],
      "execution_count": 0,
      "outputs": []
    },
    {
      "cell_type": "code",
      "metadata": {
        "id": "XHuCjFGiMb_u",
        "colab_type": "code",
        "colab": {}
      },
      "source": [
        "plt.imshow(new_img,cmap='gray')\n",
        "plt.show()"
      ],
      "execution_count": 0,
      "outputs": []
    },
    {
      "cell_type": "code",
      "metadata": {
        "id": "C-zULWSdOD-q",
        "colab_type": "code",
        "colab": {}
      },
      "source": [
        "from keras.models import Sequential\n",
        "from keras.layers import Dense,Activation,Convolution2D,MaxPooling2D,Flatten,Dropout\n",
        "from keras.utils import np_utils"
      ],
      "execution_count": 0,
      "outputs": []
    },
    {
      "cell_type": "code",
      "metadata": {
        "id": "t5unTHw3QSSw",
        "colab_type": "code",
        "colab": {}
      },
      "source": [
        "model=Sequential()\n",
        "model.add(Convolution2D(40,3,3,input_shape=(32,32,3)))\n",
        "model.add(Activation('relu'))\n",
        "\n",
        "model.add(Convolution2D(20,2,2))\n",
        "model.add(Activation('relu'))\n",
        "\n",
        "model.add(MaxPooling2D(pool_size=(2,2)))\n",
        "\n",
        "model.add(Convolution2D(20,2,2))\n",
        "model.add(Activation('relu'))\n",
        "\n",
        "\n",
        "\n",
        "\n",
        "model.add(Convolution2D(20,3,3))\n",
        "model.add(Activation('relu'))\n",
        "\n",
        "model.add(Convolution2D(20,3,3))\n",
        "model.add(Activation('relu'))\n",
        "\n",
        "model.add(MaxPooling2D(pool_size=(2,2)))\n",
        "\n",
        "model.add(Convolution2D(20,2,2))\n",
        "model.add(Activation('relu'))\n",
        "\n",
        "model.add(Convolution2D(20,2,2))\n",
        "model.add(Activation('relu'))\n",
        "\n",
        "model.add(Flatten())\n",
        "model.add(Dropout(0.25))\n",
        "\n",
        "model.add(Dense(10))\n",
        "model.add(Activation('softmax'))\n",
        "model.summary()\n"
      ],
      "execution_count": 0,
      "outputs": []
    },
    {
      "cell_type": "code",
      "metadata": {
        "id": "7axYXcQvVsz9",
        "colab_type": "code",
        "colab": {}
      },
      "source": [
        "model.compile(loss='categorical_crossentropy',optimizer='adam',metrics=['accuracy'])"
      ],
      "execution_count": 0,
      "outputs": []
    },
    {
      "cell_type": "code",
      "metadata": {
        "id": "zXlRcCK0SYQS",
        "colab_type": "code",
        "colab": {}
      },
      "source": [
        "model.fit(x_train,Y_train,\n",
        "             batch_size=16,\n",
        "             nb_epoch=20,\n",
        "             verbose=2,\n",
        "             validation_data=(x_test,Y_test))"
      ],
      "execution_count": 0,
      "outputs": []
    },
    {
      "cell_type": "code",
      "metadata": {
        "id": "2sSeFWsGUuAq",
        "colab_type": "code",
        "colab": {}
      },
      "source": [
        "model.evaluate(x_test,Y_test)"
      ],
      "execution_count": 0,
      "outputs": []
    },
    {
      "cell_type": "code",
      "metadata": {
        "id": "VpzSr5-YhVmP",
        "colab_type": "code",
        "colab": {}
      },
      "source": [
        "y_test[0].shape"
      ],
      "execution_count": 0,
      "outputs": []
    },
    {
      "cell_type": "code",
      "metadata": {
        "id": "QvKSGotTYrwb",
        "colab_type": "code",
        "colab": {}
      },
      "source": [
        "test=np.resize(x_test[26],(1,32,32,3))\n",
        "img=model.predict(test)\n",
        "print(class_name[img.argmax()])\n",
        "plt.imshow(img)\n",
        "plt.show()"
      ],
      "execution_count": 0,
      "outputs": []
    },
    {
      "cell_type": "code",
      "metadata": {
        "id": "fyDXtYleY_tN",
        "colab_type": "code",
        "colab": {}
      },
      "source": [
        "plt.imshow(x_test[26])\n",
        "plt.show()"
      ],
      "execution_count": 0,
      "outputs": []
    },
    {
      "cell_type": "code",
      "metadata": {
        "id": "u9utPATAT36z",
        "colab_type": "code",
        "colab": {}
      },
      "source": [
        "class_name = {\n",
        "    0: 'airplane',\n",
        "    1: 'automobile',\n",
        "    2: 'bird',\n",
        "    3: 'cat',\n",
        "    4: 'deer',\n",
        "    5: 'dog',\n",
        "    6: 'frog',\n",
        "    7: 'horse',\n",
        "    8: 'ship',\n",
        "    9: 'truck',\n",
        "}"
      ],
      "execution_count": 0,
      "outputs": []
    },
    {
      "cell_type": "code",
      "metadata": {
        "id": "xSVzveP2XTts",
        "colab_type": "code",
        "colab": {}
      },
      "source": [
        ""
      ],
      "execution_count": 0,
      "outputs": []
    }
  ]
}